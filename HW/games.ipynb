{
 "cells": [
  {
   "cell_type": "markdown",
   "id": "db986fc2-816b-46dc-be6d-e416b295da72",
   "metadata": {},
   "source": [
    "Игра с именем"
   ]
  },
  {
   "cell_type": "code",
   "execution_count": null,
   "id": "35e9c4fd-2b67-43e1-823e-8d5b3e51bf20",
   "metadata": {},
   "outputs": [],
   "source": [
    "name = input()\n",
    "myname = \"Ксения\"\n",
    "if name == myname:\n",
    "    print(\"Привет! О! Это же я.\")\n",
    "else:\n",
    "    print(\"Привет, незнакомец!\")"
   ]
  },
  {
   "cell_type": "markdown",
   "id": "d37d2381-18f4-405e-a27e-2fab6c8a2ba6",
   "metadata": {},
   "source": [
    "Игра с угадыванием числа"
   ]
  },
  {
   "cell_type": "code",
   "execution_count": 4,
   "id": "abd92af2-c0d4-45f4-a74c-40f4ddfd298b",
   "metadata": {},
   "outputs": [
    {
     "name": "stdout",
     "output_type": "stream",
     "text": [
      "Здравствуйте! Давайте поиграем в игру. Вы должны угалать целое число от 0 до 99. У Вас есть 5 попыток. Удачи!\n"
     ]
    },
    {
     "name": "stdin",
     "output_type": "stream",
     "text": [
      " 56\n"
     ]
    },
    {
     "name": "stdout",
     "output_type": "stream",
     "text": [
      "Очень жаль, но Вы  не угадали число. Попробуйте ещё раз. Загаданное число меньше Вашего. Число оставшихся попыток: 4.\n"
     ]
    },
    {
     "name": "stdin",
     "output_type": "stream",
     "text": [
      " 12\n"
     ]
    },
    {
     "name": "stdout",
     "output_type": "stream",
     "text": [
      "Очень жаль, но Вы  не угадали число. Попробуйте ещё раз. Загаданное число больше Вашего. Число оставшихся попыток: 3.\n"
     ]
    },
    {
     "name": "stdin",
     "output_type": "stream",
     "text": [
      " 34\n"
     ]
    },
    {
     "name": "stdout",
     "output_type": "stream",
     "text": [
      "Очень жаль, но Вы  не угадали число. Попробуйте ещё раз. Загаданное число больше Вашего. Число оставшихся попыток: 2.\n"
     ]
    },
    {
     "name": "stdin",
     "output_type": "stream",
     "text": [
      " 45\n"
     ]
    },
    {
     "name": "stdout",
     "output_type": "stream",
     "text": [
      "Очень жаль, но Вы  не угадали число. Попробуйте ещё раз. Загаданное число больше Вашего. Число оставшихся попыток: 1.\n"
     ]
    },
    {
     "name": "stdin",
     "output_type": "stream",
     "text": [
      " 49\n"
     ]
    }
   ],
   "source": [
    "# угадать число от 0 до 99 число случайно сгенерированоe\n",
    "# попытки записывать в файл\n",
    "import random\n",
    "\n",
    "print ('Здравствуйте! Давайте поиграем в игру. Вы должны угалать целое число от 0 до 99. У Вас есть 5 попыток. Удачи!')\n",
    "\n",
    "secret_number = random.randint(0, 99)\n",
    "#print (secret_number)\n",
    "guess_number = int(input())\n",
    "\n",
    "f = open('player try.txt', \"w\")\n",
    "print(\"Загаданное число:\", secret_number, file=f)\n",
    "print(\"Попытки участника:\", file=f)\n",
    "\n",
    "tr = 4\n",
    "for i in range (tr):\n",
    "    print(guess_number, file=f)\n",
    "    if guess_number == secret_number:\n",
    "        print ('Отлично! Вы угадали число.')\n",
    "        break\n",
    "    elif guess_number < 0 or guess_number > 99:\n",
    "        print ('Вы ввели число не от 0 до 99. Вы проиграли(((')\n",
    "        break\n",
    "    elif guess_number > secret_number:\n",
    "        if i == 4:\n",
    "            print ('Очень жаль, но Вы  не угадали число. Попытки кончились. Всего хорошего.')\n",
    "            break\n",
    "        print ('Очень жаль, но Вы  не угадали число. Попробуйте ещё раз. Загаданное число меньше Вашего. Число оставшихся попыток: ' + str(tr) + '.')\n",
    "        tr = tr - 1\n",
    "        guess_number = int(input())\n",
    "    else: \n",
    "        if i == 4:\n",
    "            print ('Очень жаль, но Вы  не угадали число. Попытки кончились. Всего хорошего.')\n",
    "            break\n",
    "        print ('Очень жаль, но Вы  не угадали число. Попробуйте ещё раз. Загаданное число больше Вашего. Число оставшихся попыток: ' + str(tr) + '.')\n",
    "        tr = tr - 1\n",
    "        guess_number = int(input())\n",
    "print(guess_number, file=f)      \n",
    "f.close()"
   ]
  },
  {
   "cell_type": "markdown",
   "id": "1a870b6e-3833-43dd-8207-02f738686bad",
   "metadata": {},
   "source": [
    "Игра с угадыванием числа в виде функции"
   ]
  },
  {
   "cell_type": "code",
   "execution_count": 1,
   "id": "e8ae67c8-93a8-4501-b778-2e918eeb54ee",
   "metadata": {},
   "outputs": [],
   "source": [
    "# угадать число от 0 до 99 число случайно сгенерированоe\n",
    "# попытки записывать в файл\n",
    "def game():\n",
    "    import random\n",
    "    print ('Здравствуйте! Давайте поиграем в игру. Вы должны угалать целое число от 0 до 99. Удачи!')\n",
    "    secret_number = random.randint(0, 99)\n",
    "    guess_number = 0\n",
    "\n",
    "    f = open('player try again.txt', \"w\")\n",
    "    print(\"Загаданное число:\", secret_number, file=f)\n",
    "    print(\"Попытки участника:\", file=f)\n",
    "\n",
    "    while (guess_number != secret_number):\n",
    "        guess_number = int(input())\n",
    "        print(guess_number, file=f)\n",
    "        if guess_number == secret_number:\n",
    "            print ('Отлично! Вы угадали число.')\n",
    "            break\n",
    "        if guess_number < 0 or guess_number > 99:\n",
    "            print ('Вы ввели число не от 0 до 99. Вы проиграли(((')\n",
    "            break\n",
    "        elif guess_number > secret_number:\n",
    "            print ('Очень жаль, но Вы не угадали число. Попробуйте ещё раз. Загаданное число МЕНЬШЕ Вашего.')\n",
    "        elif guess_number < secret_number:\n",
    "            print ('Очень жаль, но Вы не угадали число. Попробуйте ещё раз. Загаданное число БОЛЬШЕ Вашего.')     \n",
    "    f.close()"
   ]
  },
  {
   "cell_type": "code",
   "execution_count": 2,
   "id": "a7285103-7ef0-470f-8904-ca3d5f80b2e4",
   "metadata": {},
   "outputs": [
    {
     "name": "stdout",
     "output_type": "stream",
     "text": [
      "Здравствуйте! Давайте поиграем в игру. Вы должны угалать целое число от 0 до 99. Удачи!\n"
     ]
    },
    {
     "name": "stdin",
     "output_type": "stream",
     "text": [
      " 56\n"
     ]
    },
    {
     "name": "stdout",
     "output_type": "stream",
     "text": [
      "Очень жаль, но Вы не угадали число. Попробуйте ещё раз. Загаданное число БОЛЬШЕ Вашего.\n"
     ]
    },
    {
     "name": "stdin",
     "output_type": "stream",
     "text": [
      " 65\n"
     ]
    },
    {
     "name": "stdout",
     "output_type": "stream",
     "text": [
      "Очень жаль, но Вы не угадали число. Попробуйте ещё раз. Загаданное число БОЛЬШЕ Вашего.\n"
     ]
    },
    {
     "name": "stdin",
     "output_type": "stream",
     "text": [
      " 98\n"
     ]
    },
    {
     "name": "stdout",
     "output_type": "stream",
     "text": [
      "Очень жаль, но Вы не угадали число. Попробуйте ещё раз. Загаданное число МЕНЬШЕ Вашего.\n"
     ]
    },
    {
     "name": "stdin",
     "output_type": "stream",
     "text": [
      " 87\n"
     ]
    },
    {
     "name": "stdout",
     "output_type": "stream",
     "text": [
      "Очень жаль, но Вы не угадали число. Попробуйте ещё раз. Загаданное число МЕНЬШЕ Вашего.\n"
     ]
    },
    {
     "name": "stdin",
     "output_type": "stream",
     "text": [
      " 45\n"
     ]
    },
    {
     "name": "stdout",
     "output_type": "stream",
     "text": [
      "Очень жаль, но Вы не угадали число. Попробуйте ещё раз. Загаданное число БОЛЬШЕ Вашего.\n"
     ]
    },
    {
     "name": "stdin",
     "output_type": "stream",
     "text": [
      " 72\n"
     ]
    },
    {
     "name": "stdout",
     "output_type": "stream",
     "text": [
      "Очень жаль, но Вы не угадали число. Попробуйте ещё раз. Загаданное число БОЛЬШЕ Вашего.\n"
     ]
    },
    {
     "name": "stdin",
     "output_type": "stream",
     "text": [
      " 76\n"
     ]
    },
    {
     "name": "stdout",
     "output_type": "stream",
     "text": [
      "Очень жаль, но Вы не угадали число. Попробуйте ещё раз. Загаданное число БОЛЬШЕ Вашего.\n"
     ]
    },
    {
     "name": "stdin",
     "output_type": "stream",
     "text": [
      " 79\n"
     ]
    },
    {
     "name": "stdout",
     "output_type": "stream",
     "text": [
      "Очень жаль, но Вы не угадали число. Попробуйте ещё раз. Загаданное число БОЛЬШЕ Вашего.\n"
     ]
    },
    {
     "name": "stdin",
     "output_type": "stream",
     "text": [
      " 83\n"
     ]
    },
    {
     "name": "stdout",
     "output_type": "stream",
     "text": [
      "Отлично! Вы угадали число.\n"
     ]
    }
   ],
   "source": [
    "game()"
   ]
  },
  {
   "cell_type": "code",
   "execution_count": null,
   "id": "d163bc40-55ba-4566-9418-e79935cc3c18",
   "metadata": {},
   "outputs": [],
   "source": []
  }
 ],
 "metadata": {
  "kernelspec": {
   "display_name": "Python 3 (ipykernel)",
   "language": "python",
   "name": "python3"
  },
  "language_info": {
   "codemirror_mode": {
    "name": "ipython",
    "version": 3
   },
   "file_extension": ".py",
   "mimetype": "text/x-python",
   "name": "python",
   "nbconvert_exporter": "python",
   "pygments_lexer": "ipython3",
   "version": "3.12.7"
  }
 },
 "nbformat": 4,
 "nbformat_minor": 5
}
