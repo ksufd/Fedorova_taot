{
 "cells": [
  {
   "cell_type": "code",
   "execution_count": 23,
   "id": "97204daa-d029-4510-8c9f-4d85b0008289",
   "metadata": {},
   "outputs": [],
   "source": [
    "x = [2, 5, 3, 7, 6, 2, 9, 8, 7, 1]\n",
    "n = len (x)"
   ]
  },
  {
   "cell_type": "code",
   "execution_count": 10,
   "id": "9cbe9cac-c8cb-4678-be1d-1d4c0e2b6f47",
   "metadata": {},
   "outputs": [],
   "source": [
    "a = 2\n",
    "answer = False"
   ]
  },
  {
   "cell_type": "code",
   "execution_count": 11,
   "id": "fc6619e8-763c-4e69-8cfe-046aefd661b4",
   "metadata": {},
   "outputs": [
    {
     "name": "stdout",
     "output_type": "stream",
     "text": [
      "True\n"
     ]
    }
   ],
   "source": [
    "for i in x:\n",
    "    if a == i:\n",
    "        answer = True \n",
    "print (answer)"
   ]
  },
  {
   "cell_type": "code",
   "execution_count": null,
   "id": "b1ae9612-30fc-4c66-bc43-0014c8ca50b6",
   "metadata": {},
   "outputs": [],
   "source": []
  },
  {
   "cell_type": "code",
   "execution_count": 20,
   "id": "d7db557d-7eca-43b0-b450-be1230057a6d",
   "metadata": {},
   "outputs": [],
   "source": []
  },
  {
   "cell_type": "code",
   "execution_count": 21,
   "id": "9c7fbb15-a290-4693-803f-7942d9861541",
   "metadata": {},
   "outputs": [
    {
     "name": "stdout",
     "output_type": "stream",
     "text": [
      "-1\n"
     ]
    }
   ],
   "source": [
    "first = 1\n",
    "index = -1\n",
    "while (first <= n) and (index == -1):\n",
    "    mid = (first+last)//2\n",
    "    if x[mid] == a:\n",
    "        index = mid\n",
    "    else:\n",
    "        if a<x[mid]:\n",
    "            n = mid -1\n",
    "        else:\n",
    "            n = mid +1\n",
    "print (index)"
   ]
  },
  {
   "cell_type": "code",
   "execution_count": null,
   "id": "a5071bd4-ec97-45e9-bd02-2f669b869de6",
   "metadata": {},
   "outputs": [],
   "source": []
  }
 ],
 "metadata": {
  "kernelspec": {
   "display_name": "Python 3 (ipykernel)",
   "language": "python",
   "name": "python3"
  },
  "language_info": {
   "codemirror_mode": {
    "name": "ipython",
    "version": 3
   },
   "file_extension": ".py",
   "mimetype": "text/x-python",
   "name": "python",
   "nbconvert_exporter": "python",
   "pygments_lexer": "ipython3",
   "version": "3.12.7"
  }
 },
 "nbformat": 4,
 "nbformat_minor": 5
}
